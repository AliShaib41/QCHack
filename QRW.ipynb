{
 "cells": [
  {
   "cell_type": "code",
   "execution_count": 1,
   "id": "decimal-trader",
   "metadata": {},
   "outputs": [],
   "source": [
    "import qiskit\n",
    "from qiskit.providers.aer.noise import NoiseModel\n",
    "from qiskit import IBMQ, Aer\n",
    "import matplotlib as mpl\n",
    "import matplotlib.pyplot as plt"
   ]
  },
  {
   "cell_type": "code",
   "execution_count": 2,
   "id": "conditional-evolution",
   "metadata": {},
   "outputs": [],
   "source": [
    "def cnx(qc, *qubits):\n",
    "    if len(qubits) >= 3:\n",
    "        last = qubits[-1]\n",
    "        # A matrix: (made up of a  and Y rotation, lemma4.3)\n",
    "        qc.crz(np.pi/2, qubits[-2], qubits[-1])\n",
    "        qc.cu3(np.pi/2, 0, 0, qubits[-2],qubits[-1])\n",
    "        \n",
    "        # Control not gate\n",
    "        cnx(qc,*qubits[:-2],qubits[-1])\n",
    "        \n",
    "        # B matrix (pposite angle)\n",
    "        qc.cu3(-np.pi/2, 0, 0, qubits[-2], qubits[-1])\n",
    "        \n",
    "        # Control\n",
    "        cnx(qc,*qubits[:-2],qubits[-1])\n",
    "        \n",
    "        # C matrix (final rotation)\n",
    "        qc.crz(-np.pi/2,qubits[-2],qubits[-1])\n",
    "    elif len(qubits)==3:\n",
    "        qc.ccx(*qubits)\n",
    "    elif len(qubits)==2:\n",
    "        qc.cx(*qubits)"
   ]
  },
  {
   "cell_type": "code",
   "execution_count": 3,
   "id": "skilled-entry",
   "metadata": {},
   "outputs": [],
   "source": [
    "import numpy as np\n",
    "from qiskit import IBMQ, QuantumCircuit, ClassicalRegister, QuantumRegister, execute\n",
    "from qiskit.tools.visualization import plot_histogram, plot_state_city"
   ]
  },
  {
   "cell_type": "code",
   "execution_count": 4,
   "id": "chronic-colors",
   "metadata": {},
   "outputs": [
    {
     "name": "stderr",
     "output_type": "stream",
     "text": [
      "C:\\Users\\USER\\anaconda3\\envs\\quantum\\lib\\site-packages\\qiskit\\providers\\ibmq\\ibmqfactory.py:192: UserWarning: Timestamps in IBMQ backend properties, jobs, and job results are all now in local time instead of UTC.\n",
      "  warnings.warn('Timestamps in IBMQ backend properties, jobs, and job results '\n"
     ]
    }
   ],
   "source": [
    "provider=IBMQ.load_account()"
   ]
  },
  {
   "cell_type": "code",
   "execution_count": 5,
   "id": "delayed-violation",
   "metadata": {},
   "outputs": [],
   "source": [
    "def increment_gate(qwc, q, subnode,n):\n",
    "    for i in range(n):\n",
    "        cnx(qwc, subnode, q[i:])\n",
    "        cnx(qwc, subnode, q[i:])\n",
    "        cnx(qwc, subnode, q[i:])\n",
    "    qwc.barrier()\n",
    "    return qwc\n",
    "\n",
    "def decrement_gate(qwc, q, subnode,n):\n",
    "    qwc.x(subnode)\n",
    "    \n",
    "    for i in range(1,n):\n",
    "        qwc.x(q[i])\n",
    "    \n",
    "    for i in range(n-1):\n",
    "        cnx(qwc, subnode, q[i:])\n",
    "        qwc.x(q[i+1])\n",
    "\n",
    "    cnx(qwc, subnode[0], q[n-1])\n",
    "    qwc.x(subnode[0])\n",
    "    return qwc\n",
    "  \n",
    "def ibmsim(circ):\n",
    "    ibmqBE = IBMQ.load_account().get_backend('ibmq_16_melbourne')\n",
    "    noise_model = NoiseModel.from_backend(ibmqBE)\n",
    "    return execute(circ,Aer.get_backend('qasm_simulator'), shots=1000,noise_model=noise_model).result().get_counts(circ)"
   ]
  },
  {
   "cell_type": "code",
   "execution_count": 6,
   "id": "asian-richardson",
   "metadata": {},
   "outputs": [],
   "source": [
    "def runQWC(n,vec,times):\n",
    "    qnodes = QuantumRegister(n,'qc')\n",
    "    qsubnodes = QuantumRegister(1,'qanc')\n",
    "    csubnodes = ClassicalRegister(1,'canc')\n",
    "    cnodes = ClassicalRegister(n,'cr')\n",
    "\n",
    "    qwc = QuantumCircuit(qnodes, qsubnodes, cnodes, csubnodes)\n",
    "    qwc.initialize(vec,qnodes)\n",
    "    \n",
    "    for i in range(times):\n",
    "        qwc.h(qsubnodes[0])\n",
    "        increment_gate(qwc, qnodes, qsubnodes,n)\n",
    "        decrement_gate(qwc,qnodes,qsubnodes,n)\n",
    "        qwc.measure(qnodes, cnodes)\n",
    "    return qwc"
   ]
  },
  {
   "cell_type": "code",
   "execution_count": 7,
   "id": "prime-guinea",
   "metadata": {},
   "outputs": [],
   "source": [
    "binnQ = lambda x,n : ''.join(reversed( [str((x >> i) & 1) for i in range(n)] ) )"
   ]
  },
  {
   "cell_type": "code",
   "execution_count": 8,
   "id": "sharp-india",
   "metadata": {},
   "outputs": [],
   "source": [
    "def convert(binary_string):\n",
    "    vec=np.zeros(2**len(binary_string))\n",
    "    vec[int(binary_string,2)]=1\n",
    "    return vec"
   ]
  },
  {
   "cell_type": "code",
   "execution_count": 9,
   "id": "literary-dallas",
   "metadata": {},
   "outputs": [],
   "source": [
    "string=\"AliShaib\"\n",
    "asc=[]\n",
    "for c in string:\n",
    "    asc.append(binnQ(ord(c),7))"
   ]
  },
  {
   "cell_type": "code",
   "execution_count": null,
   "id": "charming-developer",
   "metadata": {},
   "outputs": [
    {
     "name": "stderr",
     "output_type": "stream",
     "text": [
      "ibmqfactory.load_account:WARNING:2021-04-11 16:16:50,023: Credentials are already in use. The existing account in the session will be replaced.\n",
      "C:\\Users\\USER\\anaconda3\\envs\\quantum\\lib\\site-packages\\qiskit\\providers\\ibmq\\ibmqfactory.py:192: UserWarning: Timestamps in IBMQ backend properties, jobs, and job results are all now in local time instead of UTC.\n",
      "  warnings.warn('Timestamps in IBMQ backend properties, jobs, and job results '\n",
      "ibmqfactory.load_account:WARNING:2021-04-11 16:17:03,577: Credentials are already in use. The existing account in the session will be replaced.\n",
      "ibmqfactory.load_account:WARNING:2021-04-11 16:17:19,737: Credentials are already in use. The existing account in the session will be replaced.\n",
      "ibmqfactory.load_account:WARNING:2021-04-11 16:17:36,843: Credentials are already in use. The existing account in the session will be replaced.\n",
      "ibmqfactory.load_account:WARNING:2021-04-11 16:17:49,525: Credentials are already in use. The existing account in the session will be replaced.\n",
      "ibmqfactory.load_account:WARNING:2021-04-11 16:18:02,096: Credentials are already in use. The existing account in the session will be replaced.\n",
      "ibmqfactory.load_account:WARNING:2021-04-11 16:18:18,441: Credentials are already in use. The existing account in the session will be replaced.\n",
      "ibmqfactory.load_account:WARNING:2021-04-11 16:18:32,272: Credentials are already in use. The existing account in the session will be replaced.\n",
      "ibmqfactory.load_account:WARNING:2021-04-11 16:18:45,736: Credentials are already in use. The existing account in the session will be replaced.\n",
      "ibmqfactory.load_account:WARNING:2021-04-11 16:19:03,875: Credentials are already in use. The existing account in the session will be replaced.\n",
      "ibmqfactory.load_account:WARNING:2021-04-11 16:19:18,958: Credentials are already in use. The existing account in the session will be replaced.\n",
      "ibmqfactory.load_account:WARNING:2021-04-11 16:19:32,789: Credentials are already in use. The existing account in the session will be replaced.\n",
      "ibmqfactory.load_account:WARNING:2021-04-11 16:19:49,256: Credentials are already in use. The existing account in the session will be replaced.\n",
      "ibmqfactory.load_account:WARNING:2021-04-11 16:20:03,280: Credentials are already in use. The existing account in the session will be replaced.\n",
      "ibmqfactory.load_account:WARNING:2021-04-11 16:20:19,273: Credentials are already in use. The existing account in the session will be replaced.\n"
     ]
    }
   ],
   "source": [
    "import random\n",
    "waves=[]\n",
    "colors=[]\n",
    "\n",
    "for c in asc:\n",
    "    step = 20\n",
    "    qwc = runQWC(7,convert(c),step)\n",
    "    waves.append(ibmsim(qwc))\n",
    "    \n",
    "    step = random.randint(1,50)\n",
    "    qwc = runQWC(2,convert('00'),step)\n",
    "    colors.append(ibmsim(qwc))"
   ]
  },
  {
   "cell_type": "code",
   "execution_count": null,
   "id": "reliable-religion",
   "metadata": {},
   "outputs": [],
   "source": [
    "def convert_dicts_to_array(dicts,n):\n",
    "    counts=np.zeros((len(dicts),2**n))\n",
    "\n",
    "    for i in range(len(dicts)):\n",
    "        for c in dicts[i]:\n",
    "            counts[i,int(c[2:],2)]=dicts[i][c]\n",
    "        counts[i,:]=counts[i]/np.sum(counts[i])\n",
    "    return counts"
   ]
  },
  {
   "cell_type": "code",
   "execution_count": null,
   "id": "internal-registrar",
   "metadata": {},
   "outputs": [],
   "source": [
    "waves_arr=convert_dicts_to_array(waves,7)\n",
    "colors_arr=convert_dicts_to_array(colors,2)"
   ]
  },
  {
   "cell_type": "code",
   "execution_count": null,
   "id": "written-wallpaper",
   "metadata": {},
   "outputs": [],
   "source": [
    "for i in range(waves_arr.shape[0]):\n",
    "    plt.plot(waves_arr[i],c=colors_arr[i,:3])"
   ]
  }
 ],
 "metadata": {
  "kernelspec": {
   "display_name": "Python 3",
   "language": "python",
   "name": "python3"
  },
  "language_info": {
   "codemirror_mode": {
    "name": "ipython",
    "version": 3
   },
   "file_extension": ".py",
   "mimetype": "text/x-python",
   "name": "python",
   "nbconvert_exporter": "python",
   "pygments_lexer": "ipython3",
   "version": "3.7.9"
  }
 },
 "nbformat": 4,
 "nbformat_minor": 5
}
